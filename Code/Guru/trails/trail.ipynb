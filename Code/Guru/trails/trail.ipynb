{
 "cells": [
  {
   "cell_type": "code",
   "execution_count": 1,
   "metadata": {},
   "outputs": [
    {
     "name": "stderr",
     "output_type": "stream",
     "text": [
      "/media/guru/Storage/Sem5/DL/DL-Project/.venv/lib/python3.10/site-packages/paddle/base/framework.py:688: UserWarning: You are using GPU version Paddle, but your CUDA device is not set properly. CPU device will be used by default.\n",
      "  warnings.warn(\n"
     ]
    }
   ],
   "source": [
    "from paddleocr import PaddleOCR , draw_ocr\n",
    "from PIL import Image"
   ]
  },
  {
   "cell_type": "code",
   "execution_count": 2,
   "metadata": {},
   "outputs": [
    {
     "name": "stdout",
     "output_type": "stream",
     "text": [
      "[2024/08/04 15:45:52] ppocr DEBUG: Namespace(help='==SUPPRESS==', use_gpu=False, use_xpu=False, use_npu=False, use_mlu=False, ir_optim=True, use_tensorrt=False, min_subgraph_size=15, precision='fp32', gpu_mem=500, gpu_id=0, image_dir=None, page_num=0, det_algorithm='DB', det_model_dir='/home/guru/.paddleocr/whl/det/en/en_PP-OCRv3_det_infer', det_limit_side_len=960, det_limit_type='max', det_box_type='quad', det_db_thresh=0.3, det_db_box_thresh=0.6, det_db_unclip_ratio=1.5, max_batch_size=10, use_dilation=False, det_db_score_mode='fast', det_east_score_thresh=0.8, det_east_cover_thresh=0.1, det_east_nms_thresh=0.2, det_sast_score_thresh=0.5, det_sast_nms_thresh=0.2, det_pse_thresh=0, det_pse_box_thresh=0.85, det_pse_min_area=16, det_pse_scale=1, scales=[8, 16, 32], alpha=1.0, beta=1.0, fourier_degree=5, rec_algorithm='SVTR_LCNet', rec_model_dir='/home/guru/.paddleocr/whl/rec/en/en_PP-OCRv4_rec_infer', rec_image_inverse=True, rec_image_shape='3, 48, 320', rec_batch_num=6, max_text_length=25, rec_char_dict_path='/media/guru/Storage/Sem5/DL/DL-Project/.venv/lib/python3.10/site-packages/paddleocr/ppocr/utils/en_dict.txt', use_space_char=True, vis_font_path='./doc/fonts/simfang.ttf', drop_score=0.5, e2e_algorithm='PGNet', e2e_model_dir=None, e2e_limit_side_len=768, e2e_limit_type='max', e2e_pgnet_score_thresh=0.5, e2e_char_dict_path='./ppocr/utils/ic15_dict.txt', e2e_pgnet_valid_set='totaltext', e2e_pgnet_mode='fast', use_angle_cls=True, cls_model_dir='/home/guru/.paddleocr/whl/cls/ch_ppocr_mobile_v2.0_cls_infer', cls_image_shape='3, 48, 192', label_list=['0', '180'], cls_batch_num=6, cls_thresh=0.9, enable_mkldnn=False, cpu_threads=10, use_pdserving=False, warmup=False, sr_model_dir=None, sr_image_shape='3, 32, 128', sr_batch_num=1, draw_img_save_dir='./inference_results', save_crop_res=False, crop_res_save_dir='./output', use_mp=False, total_process_num=1, process_id=0, benchmark=False, save_log_path='./log_output/', show_log=True, use_onnx=False, return_word_box=False, output='./output', table_max_len=488, table_algorithm='TableAttn', table_model_dir=None, merge_no_span_structure=True, table_char_dict_path=None, layout_model_dir=None, layout_dict_path=None, layout_score_threshold=0.5, layout_nms_threshold=0.5, kie_algorithm='LayoutXLM', ser_model_dir=None, re_model_dir=None, use_visual_backbone=True, ser_dict_path='../train_data/XFUND/class_list_xfun.txt', ocr_order_method=None, mode='structure', image_orientation=False, layout=True, table=True, ocr=True, recovery=False, use_pdf2docx_api=False, invert=False, binarize=False, alphacolor=(255, 255, 255), lang='en', det=True, rec=True, type='ocr', savefile=False, ocr_version='PP-OCRv4', structure_version='PP-StructureV2')\n"
     ]
    }
   ],
   "source": [
    "ocr = PaddleOCR(use_angle_cls=True, lang='en') # need to run only once to download and load model into memory"
   ]
  },
  {
   "cell_type": "code",
   "execution_count": 3,
   "metadata": {},
   "outputs": [
    {
     "name": "stdout",
     "output_type": "stream",
     "text": [
      "[2024/08/04 15:45:56] ppocr DEBUG: dt_boxes num : 110, elapsed : 0.46765780448913574\n",
      "[2024/08/04 15:45:56] ppocr DEBUG: cls num  : 110, elapsed : 0.23525142669677734\n",
      "[2024/08/04 15:46:05] ppocr DEBUG: rec_res num  : 110, elapsed : 9.263882160186768\n",
      "[[[42.0, 36.0], [232.0, 45.0], [230.0, 77.0], [40.0, 68.0]], ('iIcicI Bank', 0.7676844000816345)]\n",
      "[[[227.0, 95.0], [539.0, 95.0], [539.0, 109.0], [227.0, 109.0]], ('PRELIMINARY CREDIT FACILITY APPLICATION FORM', 0.9644691348075867)]\n",
      "[[[56.0, 131.0], [217.0, 131.0], [217.0, 145.0], [56.0, 145.0]], ('iSMART Domestic Educational Loans', 0.9786232709884644)]\n",
      "[[[56.0, 151.0], [232.0, 151.0], [232.0, 165.0], [56.0, 165.0]], ('iSMART International Educational Loans', 0.9368902444839478)]\n",
      "[[[57.0, 174.0], [261.0, 174.0], [261.0, 188.0], [57.0, 188.0]], ('Education Loans (Excluding iSMART Institutes)', 0.9980307817459106)]\n",
      "[[[394.0, 171.0], [437.0, 171.0], [437.0, 182.0], [394.0, 182.0]], ('Piease Affix', 0.9458439350128174)]\n",
      "[[[608.0, 171.0], [650.0, 171.0], [650.0, 182.0], [608.0, 182.0]], ('Please Affix', 0.9850024580955505)]\n",
      "[[[51.0, 192.0], [184.0, 192.0], [184.0, 206.0], [51.0, 206.0]], ('PO Program Education Loans', 0.938611626625061)]\n",
      "[[[403.0, 185.0], [431.0, 185.0], [431.0, 197.0], [403.0, 197.0]], ('Recent', 0.9842246174812317)]\n",
      "[[[615.0, 186.0], [644.0, 186.0], [644.0, 197.0], [615.0, 197.0]], ('Recent', 0.9733303189277649)]\n",
      "[[[393.0, 199.0], [440.0, 199.0], [440.0, 211.0], [393.0, 211.0]], ('Passport size', 0.9221976399421692)]\n",
      "[[[605.0, 198.0], [653.0, 201.0], [652.0, 212.0], [604.0, 210.0]], ('Passport size', 0.8835322856903076)]\n",
      "[[[34.0, 215.0], [63.0, 215.0], [63.0, 231.0], [34.0, 231.0]], ('Date:', 0.9647515416145325)]\n",
      "[[[135.0, 217.0], [286.0, 217.0], [286.0, 231.0], [135.0, 231.0]], ('DDMMYYY', 0.6394343972206116)]\n",
      "[[[394.0, 212.0], [439.0, 215.0], [438.0, 230.0], [393.0, 227.0]], ('Photograph', 0.9873439073562622)]\n",
      "[[[392.0, 229.0], [441.0, 229.0], [441.0, 241.0], [392.0, 241.0]], ('(Self attested)', 0.9738737940788269)]\n",
      "[[[603.0, 229.0], [653.0, 229.0], [653.0, 241.0], [603.0, 241.0]], ('(Sell attested)', 0.9786013960838318)]\n",
      "[[[33.0, 241.0], [288.0, 238.0], [288.0, 255.0], [33.0, 258.0]], ('Loan Amount Required', 0.9490739107131958)]\n",
      "[[[52.0, 293.0], [156.0, 293.0], [156.0, 308.0], [52.0, 308.0]], ('For Bank Use Only', 0.9632682800292969)]\n",
      "[[[501.0, 292.0], [686.0, 294.0], [686.0, 308.0], [501.0, 306.0]], ('Existing Relationships with ICICl Group', 0.9487752914428711)]\n",
      "[[[41.0, 314.0], [121.0, 314.0], [121.0, 329.0], [41.0, 329.0]], ('Application Type', 0.9555259943008423)]\n",
      "[[[147.0, 313.0], [188.0, 313.0], [188.0, 327.0], [147.0, 327.0]], ('New', 0.9842501282691956)]\n",
      "[[[218.0, 310.0], [271.0, 313.0], [270.0, 329.0], [217.0, 326.0]], ('Update', 0.9661799073219299)]\n",
      "[[[466.0, 311.0], [515.0, 314.0], [514.0, 329.0], [466.0, 326.0]], ('Loans', 0.9764723777770996)]\n",
      "[[[532.0, 314.0], [610.0, 314.0], [610.0, 325.0], [532.0, 325.0]], ('Credit Card', 0.9680984020233154)]\n",
      "[[[622.0, 311.0], [709.0, 314.0], [709.0, 328.0], [622.0, 325.0]], ('Bank Account', 0.9656691551208496)]\n",
      "[[[41.0, 335.0], [98.0, 335.0], [98.0, 347.0], [41.0, 347.0]], ('KYC Number', 0.9622356295585632)]\n",
      "[[[40.0, 352.0], [108.0, 352.0], [108.0, 367.0], [40.0, 367.0]], ('Account Type', 0.9806253910064697)]\n",
      "[[[147.0, 351.0], [202.0, 351.0], [202.0, 366.0], [147.0, 366.0]], ('Normal', 0.9678141474723816)]\n",
      "[[[216.0, 350.0], [387.0, 352.0], [387.0, 367.0], [216.0, 365.0]], ('Simplified(tor low risk customers', 0.8991708159446716)]\n",
      "[[[403.0, 350.0], [451.0, 352.0], [450.0, 367.0], [402.0, 365.0]], ('Small', 0.8891531825065613)]\n",
      "[[[40.0, 371.0], [163.0, 367.0], [164.0, 382.0], [41.0, 386.0]], ('SOLID', 0.9495577812194824)]\n",
      "[[[167.0, 370.0], [220.0, 374.0], [219.0, 389.0], [165.0, 385.0]], ('RM Name', 0.9322697520256042)]\n",
      "[[[386.0, 369.0], [609.0, 368.0], [609.0, 386.0], [386.0, 387.0]], ('Employee No.Ret.by ', 0.9286109805107117)]\n",
      "[[[40.0, 388.0], [93.0, 391.0], [92.0, 406.0], [39.0, 403.0]], ('DSA name', 0.9336309432983398)]\n",
      "[[[363.0, 389.0], [422.0, 389.0], [422.0, 404.0], [363.0, 404.0]], ('DSE nameU', 0.9459870457649231)]\n",
      "[[[326.0, 410.0], [365.0, 410.0], [365.0, 421.0], [326.0, 421.0]], ('CRMID', 0.9310016632080078)]\n",
      "[[[43.0, 430.0], [108.0, 430.0], [108.0, 442.0], [43.0, 442.0]], ('Channel Name', 0.9580132961273193)]\n",
      "[[[40.0, 447.0], [298.0, 447.0], [298.0, 461.0], [40.0, 461.0]], ('Ret by PB/VB/SALARY/W EALTH/BLG/BRANCH/FOREX', 0.9403656125068665)]\n",
      "[[[53.0, 470.0], [302.0, 470.0], [302.0, 484.0], [53.0, 484.0]], ('Personal Details of the Applicant (for students)', 0.9534082412719727)]\n",
      "[[[178.0, 486.0], [208.0, 489.0], [206.0, 505.0], [176.0, 502.0]], ('Pretix', 0.9591979384422302)]\n",
      "[[[267.0, 489.0], [319.0, 489.0], [319.0, 503.0], [267.0, 503.0]], ('First Name', 0.9592481851577759)]\n",
      "[[[426.0, 486.0], [489.0, 489.0], [488.0, 504.0], [425.0, 501.0]], ('Middle Name', 0.8997423648834229)]\n",
      "[[[616.0, 489.0], [659.0, 489.0], [659.0, 503.0], [616.0, 503.0]], ('Surname', 0.9956220388412476)]\n",
      "[[[41.0, 512.0], [72.0, 512.0], [72.0, 526.0], [41.0, 526.0]], ('Name', 0.9983915090560913)]\n",
      "[[[41.0, 531.0], [151.0, 531.0], [151.0, 545.0], [41.0, 545.0]], ('Fathers/Spouse Name', 0.9868218302726746)]\n",
      "[[[43.0, 551.0], [112.0, 551.0], [112.0, 563.0], [43.0, 563.0]], (\"Mother's Name\", 0.9571698307991028)]\n",
      "[[[40.0, 571.0], [159.0, 568.0], [159.0, 583.0], [41.0, 586.0]], (\"Applicant's Maiden Name\", 0.954841136932373)]\n",
      "[[[43.0, 592.0], [99.0, 592.0], [99.0, 604.0], [43.0, 604.0]], ('Date of Birth', 0.8603960275650024)]\n",
      "[[[170.0, 586.0], [508.0, 589.0], [508.0, 606.0], [170.0, 603.0]], ('DDMMYGenderMaleFemale Transgender', 0.8930818438529968)]\n",
      "[[[500.0, 587.0], [732.0, 588.0], [732.0, 606.0], [500.0, 605.0]], ('Marital statusMarried Singleothers', 0.8573179244995117)]\n",
      "[[[41.0, 610.0], [92.0, 610.0], [92.0, 625.0], [41.0, 625.0]], ('Education:', 0.9843781590461731)]\n",
      "[[[170.0, 607.0], [258.0, 610.0], [257.0, 626.0], [169.0, 623.0]], ('Post Graduate', 0.959399938583374)]\n",
      "[[[259.0, 607.0], [434.0, 608.0], [434.0, 626.0], [258.0, 625.0]], ('Professional Diploma Holder', 0.9348255395889282)]\n",
      "[[[495.0, 608.0], [559.0, 610.0], [558.0, 625.0], [494.0, 623.0]], ('Graduate', 0.958244264125824)]\n",
      "[[[577.0, 606.0], [728.0, 610.0], [727.0, 628.0], [577.0, 624.0]], ('Under Graduate/Matriculate', 0.9366821050643921)]\n",
      "[[[40.0, 630.0], [132.0, 632.0], [132.0, 646.0], [40.0, 645.0]], ('Customer Category', 0.9754194617271423)]\n",
      "[[[169.0, 626.0], [225.0, 630.0], [224.0, 648.0], [168.0, 644.0]], ('General', 0.9666706919670105)]\n",
      "[[[262.0, 625.0], [297.0, 628.0], [296.0, 647.0], [260.0, 644.0]], ('sc', 0.5733240842819214)]\n",
      "[[[343.0, 624.0], [382.0, 627.0], [381.0, 647.0], [341.0, 644.0]], ('ST', 0.9355065226554871)]\n",
      "[[[409.0, 625.0], [456.0, 628.0], [455.0, 647.0], [408.0, 644.0]], ('0BC', 0.5362666249275208)]\n",
      "[[[494.0, 625.0], [543.0, 629.0], [541.0, 648.0], [493.0, 644.0]], ('MBC', 0.8872067928314209)]\n",
      "[[[579.0, 624.0], [632.0, 630.0], [630.0, 649.0], [576.0, 643.0]], ('thers', 0.9451066851615906)]\n",
      "[[[41.0, 649.0], [84.0, 652.0], [83.0, 668.0], [40.0, 665.0]], ('Religlon:', 0.913529634475708)]\n",
      "[[[169.0, 647.0], [216.0, 650.0], [215.0, 666.0], [168.0, 663.0]], ('Hindu', 0.9627496004104614)]\n",
      "[[[261.0, 644.0], [317.0, 649.0], [315.0, 668.0], [259.0, 663.0]], ('Muslim', 0.9015747904777527)]\n",
      "[[[343.0, 647.0], [389.0, 650.0], [388.0, 666.0], [342.0, 663.0]], ('sikh', 0.8835738897323608)]\n",
      "[[[412.0, 647.0], [485.0, 651.0], [484.0, 667.0], [411.0, 663.0]], ('Zoroastrian', 0.9872623085975647)]\n",
      "[[[511.0, 648.0], [566.0, 651.0], [566.0, 666.0], [510.0, 663.0]], ('Christianity', 0.9854653477668762)]\n",
      "[[[579.0, 648.0], [641.0, 651.0], [640.0, 666.0], [578.0, 663.0]], ('Buddhist', 0.9049100875854492)]\n",
      "[[[650.0, 647.0], [702.0, 651.0], [701.0, 666.0], [649.0, 662.0]], ('Others', 0.8468567728996277)]\n",
      "[[[43.0, 673.0], [115.0, 673.0], [115.0, 685.0], [43.0, 685.0]], ('Current Address', 0.98390132188797)]\n",
      "[[[42.0, 710.0], [126.0, 712.0], [125.0, 726.0], [41.0, 725.0]], ('City/ TownVillage', 0.8990941643714905)]\n",
      "[[[353.0, 709.0], [391.0, 709.0], [391.0, 724.0], [353.0, 724.0]], ('District', 0.9909241199493408)]\n",
      "[[[529.0, 713.0], [579.0, 713.0], [579.0, 723.0], [529.0, 723.0]], ('State Code', 0.9631866216659546)]\n",
      "[[[626.0, 712.0], [643.0, 715.0], [641.0, 724.0], [625.0, 721.0]], ('Pin', 0.9944532513618469)]\n",
      "[[[43.0, 733.0], [124.0, 733.0], [124.0, 745.0], [43.0, 745.0]], ('Nearest Landmark', 0.9866344928741455)]\n",
      "[[[433.0, 732.0], [478.0, 732.0], [478.0, 743.0], [433.0, 743.0]], ('STD Code', 0.9261441230773926)]\n",
      "[[[569.0, 735.0], [581.0, 735.0], [581.0, 742.0], [569.0, 742.0]], ('Tel', 0.742732048034668)]\n",
      "[[[41.0, 752.0], [130.0, 752.0], [130.0, 766.0], [41.0, 766.0]], ('Permanent Address', 0.972152829170227)]\n",
      "[[[357.0, 772.0], [391.0, 772.0], [391.0, 784.0], [357.0, 784.0]], ('District', 0.9395998120307922)]\n",
      "[[[530.0, 772.0], [578.0, 772.0], [578.0, 784.0], [530.0, 784.0]], ('State Code', 0.9440990686416626)]\n",
      "[[[43.0, 791.0], [123.0, 791.0], [123.0, 803.0], [43.0, 803.0]], ('Nearest Landmark', 0.9888275861740112)]\n",
      "[[[432.0, 791.0], [479.0, 791.0], [479.0, 802.0], [432.0, 802.0]], ('STD Code', 0.9476940631866455)]\n",
      "[[[44.0, 814.0], [124.0, 814.0], [124.0, 826.0], [44.0, 826.0]], ('City/Tow n/ Village', 0.9437777996063232)]\n",
      "[[[392.0, 811.0], [533.0, 810.0], [533.0, 824.0], [392.0, 826.0]], ('Location Category:Rural', 0.945910632610321)]\n",
      "[[[532.0, 813.0], [604.0, 813.0], [604.0, 825.0], [532.0, 825.0]], ('Semi-urban', 0.9551559686660767)]\n",
      "[[[621.0, 809.0], [666.0, 812.0], [665.0, 827.0], [620.0, 824.0]], ('Urban', 0.9356368780136108)]\n",
      "[[[685.0, 809.0], [729.0, 813.0], [728.0, 826.0], [684.0, 822.0]], ('Metro', 0.8292751312255859)]\n",
      "[[[41.0, 832.0], [93.0, 832.0], [93.0, 847.0], [41.0, 847.0]], ('Mobile No.', 0.8848668932914734)]\n",
      "[[[43.0, 853.0], [124.0, 853.0], [124.0, 865.0], [43.0, 865.0]], ('Residential status:', 0.9798155426979065)]\n",
      "[[[168.0, 848.0], [459.0, 849.0], [459.0, 867.0], [168.0, 866.0]], ('Resident IndividualNRPIOForeign National', 0.8877943158149719)]\n",
      "[[[516.0, 852.0], [557.0, 852.0], [557.0, 864.0], [516.0, 864.0]], ('UID No.', 0.8449425101280212)]\n",
      "[[[53.0, 881.0], [132.0, 881.0], [132.0, 893.0], [53.0, 893.0]], ('Course Detaills', 0.9209483861923218)]\n",
      "[[[39.0, 902.0], [152.0, 904.0], [152.0, 918.0], [39.0, 917.0]], ('Institution/University(N', 0.9228536486625671)]\n",
      "[[[40.0, 926.0], [130.0, 926.0], [130.0, 940.0], [40.0, 940.0]], ('Name ot the Course', 0.9484923481941223)]\n",
      "[[[41.0, 949.0], [125.0, 949.0], [125.0, 962.0], [41.0, 962.0]], ('Duration of Course', 0.9890463948249817)]\n",
      "[[[168.0, 944.0], [287.0, 946.0], [287.0, 961.0], [168.0, 959.0]], ('YrsMths', 0.7691430449485779)]\n",
      "[[[39.0, 970.0], [194.0, 968.0], [194.0, 983.0], [39.0, 985.0]], ('Date of commencement ot course', 0.9289427995681763)]\n",
      "[[[204.0, 965.0], [433.0, 966.0], [433.0, 985.0], [204.0, 983.0]], ('Level ot Course', 0.798138439655304)]\n",
      "[[[454.0, 967.0], [731.0, 970.0], [731.0, 985.0], [454.0, 982.0]], ('Graduate Post GraduateProfessional Diploma', 0.941046953201294)]\n"
     ]
    }
   ],
   "source": [
    "img_path = './sample-data/bankforms.jpeg'\n",
    "result = ocr.ocr(img_path, cls=True)\n",
    "for idx in range(len(result)):\n",
    "    res = result[idx]\n",
    "    for line in res:\n",
    "        print(line)"
   ]
  },
  {
   "cell_type": "code",
   "execution_count": 4,
   "metadata": {},
   "outputs": [],
   "source": [
    "result = result[0]"
   ]
  },
  {
   "cell_type": "code",
   "execution_count": 5,
   "metadata": {},
   "outputs": [],
   "source": [
    "image = Image.open(img_path).convert('RGB')"
   ]
  },
  {
   "cell_type": "code",
   "execution_count": 6,
   "metadata": {},
   "outputs": [],
   "source": [
    "boxes = [line[0] for line in result]\n",
    "txts = [line[1][0] for line in result]\n",
    "scores = [line[1][1] for line in result]"
   ]
  },
  {
   "cell_type": "code",
   "execution_count": 10,
   "metadata": {},
   "outputs": [],
   "source": [
    "im_show = draw_ocr(image, boxes, txts, scores,font_path='/usr/share/fonts/truetype/dejavu/DejaVuSans-Bold.ttf')"
   ]
  },
  {
   "cell_type": "code",
   "execution_count": 11,
   "metadata": {},
   "outputs": [],
   "source": [
    "im_show = Image.fromarray(im_show)\n",
    "im_show.save('result.jpg')"
   ]
  }
 ],
 "metadata": {
  "kernelspec": {
   "display_name": ".venv",
   "language": "python",
   "name": "python3"
  },
  "language_info": {
   "codemirror_mode": {
    "name": "ipython",
    "version": 3
   },
   "file_extension": ".py",
   "mimetype": "text/x-python",
   "name": "python",
   "nbconvert_exporter": "python",
   "pygments_lexer": "ipython3",
   "version": "3.10.12"
  }
 },
 "nbformat": 4,
 "nbformat_minor": 2
}
