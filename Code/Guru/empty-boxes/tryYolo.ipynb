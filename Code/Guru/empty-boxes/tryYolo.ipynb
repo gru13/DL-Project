{
 "cells": [
  {
   "cell_type": "code",
   "execution_count": 2,
   "metadata": {},
   "outputs": [],
   "source": [
    "from ultralytics import YOLO"
   ]
  },
  {
   "cell_type": "code",
   "execution_count": null,
   "metadata": {},
   "outputs": [],
   "source": [
    "\n",
    "# Load the pre-trained YOLOv8 model\n",
    "model = YOLO('yolov8n.pt')  # You can use 'yolov8s.pt', 'yolov8m.pt', etc. for larger models\n",
    "\n",
    "# Train the model on a custom dataset\n",
    "results = model.train(\n",
    "    data='./dataset/data.yaml',  # Path to your dataset YAML file\n",
    "    epochs=300,                      # Adjust number of epochs as needed\n",
    "    batch=16,                       # Batch size\n",
    "    imgsz=640,                      # Image size\n",
    "    device=0                        # Set to 0 to ensure it runs on your GPU\n",
    ")\n",
    "# Save the best model after training\n",
    "model.save('best_yolov8_model.pt')\n"
   ]
  },
  {
   "cell_type": "code",
   "execution_count": null,
   "metadata": {},
   "outputs": [],
   "source": [
    "# result = model.predict(source=\"./WhatsApp Image 2024-10-05 at 14.11.52_0aaa6539.jpg\", save=True, device=0)4\n",
    "model = YOLO(\"./best_yolov8_model.pt\")\n",
    "results = model.predict(source='./1_jpg.rf.d9d6b190848b70f124c8b37a924b80c3.jpg', save=True, conf=0.25, device=0)  # Lower confidence threshold\n",
    "# print(f\"Prediction saved at: {results.files}\")"
   ]
  },
  {
   "cell_type": "code",
   "execution_count": null,
   "metadata": {},
   "outputs": [],
   "source": []
  }
 ],
 "metadata": {
  "kernelspec": {
   "display_name": "yolo",
   "language": "python",
   "name": "python3"
  },
  "language_info": {
   "codemirror_mode": {
    "name": "ipython",
    "version": 3
   },
   "file_extension": ".py",
   "mimetype": "text/x-python",
   "name": "python",
   "nbconvert_exporter": "python",
   "pygments_lexer": "ipython3",
   "version": "3.10.12"
  }
 },
 "nbformat": 4,
 "nbformat_minor": 2
}
